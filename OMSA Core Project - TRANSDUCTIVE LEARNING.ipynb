{
 "cells": [
  {
   "cell_type": "code",
   "execution_count": 1,
   "metadata": {},
   "outputs": [],
   "source": [
    "import pandas as pd\n",
    "import numpy as np\n",
    "import os\n",
    "from numpy import mean\n",
    "from sklearn.datasets import make_classification\n",
    "from sklearn.model_selection import cross_val_score, train_test_split\n",
    "from sklearn.model_selection import RepeatedStratifiedKFold\n",
    "from sklearn.linear_model import LogisticRegression\n",
    "from sklearn.preprocessing import MultiLabelBinarizer\n",
    "import scipy\n",
    "from sklearn import linear_model, metrics, pipeline, preprocessing\n",
    "import matplotlib.pyplot as plt\n",
    "pd.set_option('display.max_columns', None)\n",
    "import time\n",
    "from sklearn.model_selection import cross_val_score\n",
    "\n",
    "import warnings\n",
    "warnings.filterwarnings(\"ignore\", category=DeprecationWarning) \n",
    "warnings.filterwarnings(\"ignore\", category=FutureWarning) "
   ]
  },
  {
   "cell_type": "markdown",
   "metadata": {},
   "source": [
    "fir the y column: 1 = confirmed fraud, 0 = passed OTP (good customer), -1 = unknown status"
   ]
  },
  {
   "cell_type": "markdown",
   "metadata": {},
   "source": [
    "# To Do\n",
    "1. drop duplicates from the dummy variables\n",
    "2. use new data\n",
    "3. setup dummy variables as dashboard"
   ]
  },
  {
   "cell_type": "code",
   "execution_count": 2,
   "metadata": {},
   "outputs": [
    {
     "data": {
      "text/plain": [
       "'C:\\\\Users\\\\RJP1F47\\\\Fraud_Project_loca'"
      ]
     },
     "execution_count": 2,
     "metadata": {},
     "output_type": "execute_result"
    }
   ],
   "source": [
    "os.getcwd()"
   ]
  },
  {
   "cell_type": "code",
   "execution_count": 3,
   "metadata": {},
   "outputs": [],
   "source": [
    "#for reading full df\n",
    "#df = pd.read_csv('omsa_project_cleaned_data.csv')\n",
    "df = scipy.sparse.load_npz('omsa_project_cleaned_data.npz').tocsr()\n",
    "y = pd.read_csv('omsa_project_cleaned_labels.csv')"
   ]
  },
  {
   "cell_type": "code",
   "execution_count": 4,
   "metadata": {},
   "outputs": [
    {
     "data": {
      "text/plain": [
       "(622571, 122762)"
      ]
     },
     "execution_count": 4,
     "metadata": {},
     "output_type": "execute_result"
    }
   ],
   "source": [
    "df.shape"
   ]
  },
  {
   "cell_type": "code",
   "execution_count": 5,
   "metadata": {},
   "outputs": [
    {
     "data": {
      "text/plain": [
       "Final Review Status\n",
       "-1                     516080\n",
       " 0                      91695\n",
       " 1                      14796\n",
       "dtype: int64"
      ]
     },
     "execution_count": 5,
     "metadata": {},
     "output_type": "execute_result"
    }
   ],
   "source": [
    "y.value_counts()"
   ]
  },
  {
   "cell_type": "code",
   "execution_count": 6,
   "metadata": {},
   "outputs": [],
   "source": [
    "y = y.values.ravel()\n",
    "pre_pseudo_labels = y.copy()"
   ]
  },
  {
   "cell_type": "code",
   "execution_count": 7,
   "metadata": {},
   "outputs": [],
   "source": [
    "pre_ssl_labeled = (y != -1).ravel()"
   ]
  },
  {
   "cell_type": "markdown",
   "metadata": {},
   "source": [
    "## Modeling Setup\n",
    "-test model on full dataset, will probably do even better"
   ]
  },
  {
   "cell_type": "code",
   "execution_count": 8,
   "metadata": {},
   "outputs": [],
   "source": [
    "from sklearn.ensemble import AdaBoostClassifier, GradientBoostingClassifier\n",
    "from sklearn.model_selection import GridSearchCV\n",
    "from sklearn.linear_model import HuberRegressor\n",
    "from sklearn.svm import LinearSVC\n",
    "from sklearn.linear_model import SGDClassifier\n",
    "from sklearn.metrics import accuracy_score, roc_auc_score\n",
    "import matplotlib.pyplot as plt"
   ]
  },
  {
   "cell_type": "markdown",
   "metadata": {},
   "source": [
    "# Config Settings"
   ]
  },
  {
   "cell_type": "code",
   "execution_count": 9,
   "metadata": {},
   "outputs": [],
   "source": [
    "min_change_step = 100\n",
    "limit_master = 0.95\n",
    "step_master = 0.05\n",
    "iterations_max = 200"
   ]
  },
  {
   "cell_type": "markdown",
   "metadata": {},
   "source": [
    "# Iterative SVM classification"
   ]
  },
  {
   "cell_type": "code",
   "execution_count": 10,
   "metadata": {},
   "outputs": [],
   "source": [
    "#clf = LinearSVC(dual=False, )\n",
    "clf = SGDClassifier(warm_start=True, loss='modified_huber', tol=1e-3, max_iter=1000, class_weight='balanced') #warm_start is import for our setup\n"
   ]
  },
  {
   "cell_type": "code",
   "execution_count": 11,
   "metadata": {},
   "outputs": [
    {
     "name": "stdout",
     "output_type": "stream",
     "text": [
      "142\n",
      "--- 839.6939685344696 seconds ---\n"
     ]
    }
   ],
   "source": [
    "#start timer\n",
    "start_time = time.time()\n",
    "\n",
    "iterations = 1\n",
    "limit = limit_master\n",
    "step = step_master\n",
    "y = pre_pseudo_labels.copy()\n",
    "\n",
    "accuracy = []\n",
    "auc = []\n",
    "auc_orig = []\n",
    "accuracy_orig_data = []\n",
    "remain_unlabeled_obs = [(y == -1).sum()]\n",
    "converged = False\n",
    "while iterations < iterations_max and (not converged):\n",
    "    y0 = y.copy()\n",
    "    \n",
    "    #restart the filters based on what we have labeled now\n",
    "    pseudo_assigned = (y != -1).ravel() #update to reflect newly assigned labels that don't require a label assignment now\n",
    "    pseudo_missing = np.invert(pseudo_assigned)\n",
    "    #restart the split\n",
    "    x_train, x_test, y_train, y_test = train_test_split(df[pseudo_assigned], y[pseudo_assigned], test_size=0.15, random_state=30, stratify=y[pseudo_assigned])\n",
    "   \n",
    "    #fit on most recent training data\n",
    "    clf.fit(x_train, y_train)\n",
    "    probs = clf.predict_proba(df)\n",
    "    \n",
    "    #save accuracy\n",
    "    y_test_preds = clf.predict(x_test)\n",
    "    accuracy.append(accuracy_score(y_test, y_test_preds))\n",
    "    auc.append(roc_auc_score(y_test, y_test_preds))\n",
    "    \n",
    "    #accuracy on just the original labeled points\n",
    "    accuracy_orig_data.append(accuracy_score(y[pre_ssl_labeled], clf.predict(df)[pre_ssl_labeled]))\n",
    "    auc_orig.append(roc_auc_score(y[pre_ssl_labeled], clf.predict(df)[pre_ssl_labeled]))\n",
    "    \n",
    "    #filter for if an element met the min probability in any column\n",
    "    min_prob_met = probs > limit\n",
    "    \n",
    "    #filter out rows where the min probability is not met on any obs for either class\n",
    "    any_strong_prediction = min_prob_met.sum(axis=1) != 0\n",
    "    \n",
    "    #will give us which class had the highest probability (combined with any_strong_prediction will get us where we want to be)\n",
    "    highest_prob_class = np.argmax(probs, axis=1)\n",
    "    \n",
    "    #save predictions of missing label data points and where we had a strong enough prediction for either class\n",
    "    y[pseudo_missing & any_strong_prediction] = highest_prob_class[pseudo_missing & any_strong_prediction]\n",
    "    \n",
    "    \n",
    "    #how are we doing now with accuracy and these new labels\n",
    "    #y_test_preds = clf.predict(x_test)\n",
    "    #accuracy.append(accuracy_score(y_test, y_test_preds))\n",
    "    remain_unlabeled_obs.append((y == -1).sum())\n",
    "    \n",
    "    if np.array_equal(y0,y):\n",
    "        limit = limit - step\n",
    "    if (remain_unlabeled_obs[-2] - remain_unlabeled_obs[-1]) < min_change_step:\n",
    "        limit = limit - step\n",
    "    if remain_unlabeled_obs[-1] == 0:\n",
    "        converged = True\n",
    "        \n",
    "    #print((y == -1).sum()) #obs still to update after this iteration\n",
    "    #print(limit)\n",
    "    iterations +=1\n",
    "print(iterations)    \n",
    "#final accuracy\n",
    "pseudo_assigned = (y != -1).ravel()\n",
    "isvm_y = y.copy()\n",
    "pseudo_missing = np.invert(pseudo_assigned)\n",
    "x_train, x_test, y_train, y_test = train_test_split(df[pseudo_assigned], y[pseudo_assigned], test_size=0.15, random_state=30, stratify=y[pseudo_assigned])\n",
    "clf.fit(x_train, y_train)\n",
    "probs_isvm = clf.predict_proba(df)\n",
    "y_test_preds = clf.predict(x_test)\n",
    "accuracy.append(accuracy_score(y_test, y_test_preds))\n",
    "auc.append(roc_auc_score(y_test, y_test_preds))\n",
    "accuracy_orig_data.append(accuracy_score(y[pre_ssl_labeled], clf.predict(df)[pre_ssl_labeled]))\n",
    "auc_orig.append(roc_auc_score(y[pre_ssl_labeled], clf.predict(df)[pre_ssl_labeled]))\n",
    "\n",
    "#end timer\n",
    "print(\"--- %s seconds ---\" % (time.time() - start_time))"
   ]
  },
  {
   "cell_type": "markdown",
   "metadata": {},
   "source": [
    "#start timer\n",
    "start_time = time.time()\n",
    "\n",
    "iterations = 1\n",
    "limit = 0.95\n",
    "step = 0.05\n",
    "y = pre_pseudo_labels.copy()\n",
    "\n",
    "accuracy = []\n",
    "remain_unlabeled_obs = [(y == -1).sum()]\n",
    "converged = False\n",
    "while iterations < 100 and (not converged):\n",
    "    y0 = y.copy()\n",
    "    \n",
    "    #restart the filters based on what we have labeled now\n",
    "    pseudo_assigned = (y != -1).ravel()\n",
    "    pseudo_missing = np.invert(pseudo_assigned)\n",
    "    #restart the split\n",
    "    x_train, x_test, y_train, y_test = train_test_split(df[pseudo_assigned], y[pseudo_assigned], test_size=0.15, random_state=30, stratify=y[pseudo_assigned])\n",
    "   \n",
    "    #fit on most recent training data\n",
    "    clf.fit(x_train, y_train)\n",
    "    probs = clf.predict_proba(df)\n",
    "    \n",
    "    #save accuracy\n",
    "    y_test_preds = clf.predict(x_test)\n",
    "    accuracy.append(accuracy_score(y_test, y_test_preds))\n",
    "    \n",
    "    \n",
    "    #filter for if an element met the min probability in any column\n",
    "    min_prob_met = probs > limit\n",
    "    \n",
    "    #filter out rows where the min probability is not met on any obs for either class\n",
    "    any_strong_prediction = min_prob_met.sum(axis=1) != 0\n",
    "    \n",
    "    #will give us which class had the highest probability (combined with any_strong_prediction will get us where we want to be)\n",
    "    highest_prob_class = np.argmax(probs, axis=1)\n",
    "    \n",
    "    #save predictions of missing label data points and where we had a strong enough prediction for either class\n",
    "    y[pseudo_missing & any_strong_prediction] = highest_prob_class[pseudo_missing & any_strong_prediction]\n",
    "    \n",
    "    \n",
    "    #how are we doing now with accuracy and these new labels\n",
    "    #y_test_preds = clf.predict(x_test)\n",
    "    #accuracy.append(accuracy_score(y_test, y_test_preds))\n",
    "    remain_unlabeled_obs.append((y == -1).sum())\n",
    "    \n",
    "    if np.array_equal(y0,y):\n",
    "        limit = limit - step\n",
    "    if (remain_unlabeled_obs[-2] - remain_unlabeled_obs[-1]) < 500:\n",
    "        limit = limit - step\n",
    "    if remain_unlabeled_obs[-1] == 0:\n",
    "        converged = True\n",
    "        \n",
    "    #print((y == -1).sum()) #obs still to update after this iteration\n",
    "    #print(limit)\n",
    "    iterations +=1\n",
    "print(iterations)    \n",
    "#final accuracy\n",
    "pseudo_assigned = (y != -1).ravel()\n",
    "pseudo_missing = np.invert(pseudo_assigned)\n",
    "x_train, x_test, y_train, y_test = train_test_split(df[pseudo_assigned], y[pseudo_assigned], test_size=0.15, random_state=30, stratify=y[pseudo_assigned])\n",
    "clf.fit(x_train, y_train)\n",
    "probs_isvm = clf.predict_proba(df)\n",
    "y_test_preds = clf.predict(x_test)\n",
    "accuracy.append(accuracy_score(y_test, y_test_preds))\n",
    "print(\"--- %s seconds ---\" % (time.time() - start_time))"
   ]
  },
  {
   "cell_type": "code",
   "execution_count": 12,
   "metadata": {},
   "outputs": [
    {
     "data": {
      "text/plain": [
       "Text(0.5, 1.0, 'Accuracy Performance with Semi Supervised Learning')"
      ]
     },
     "execution_count": 12,
     "metadata": {},
     "output_type": "execute_result"
    },
    {
     "data": {
      "image/png": "[encoded data removed]",
      "text/plain": [
       "<Figure size 432x288 with 1 Axes>"
      ]
     },
     "metadata": {
      "needs_background": "light"
     },
     "output_type": "display_data"
    }
   ],
   "source": [
    "plt.plot(range(0,iterations), accuracy)\n",
    "plt.xlabel('iterations')\n",
    "plt.ylabel('Accuracy')\n",
    "plt.title('Accuracy Performance with Semi Supervised Learning')"
   ]
  },
  {
   "cell_type": "code",
   "execution_count": 13,
   "metadata": {
    "scrolled": true
   },
   "outputs": [],
   "source": [
    "missing_labels_imputed = abs(remain_unlabeled_obs - remain_unlabeled_obs[0])"
   ]
  },
  {
   "cell_type": "code",
   "execution_count": 14,
   "metadata": {},
   "outputs": [
    {
     "data": {
      "text/plain": [
       "Text(0.5, 1.0, 'Accuracy Performance with Semi Supervised Learning')"
      ]
     },
     "execution_count": 14,
     "metadata": {},
     "output_type": "execute_result"
    },
    {
     "data": {
      "image/png": "[encoded data removed]",
      "text/plain": [
       "<Figure size 432x288 with 1 Axes>"
      ]
     },
     "metadata": {
      "needs_background": "light"
     },
     "output_type": "display_data"
    }
   ],
   "source": [
    "plt.plot(missing_labels_imputed, accuracy)\n",
    "plt.xlabel('# Missing Labels Imputed')\n",
    "plt.ylabel('Accuracy')\n",
    "plt.title('Accuracy Performance with Semi Supervised Learning')"
   ]
  },
  {
   "cell_type": "code",
   "execution_count": 15,
   "metadata": {},
   "outputs": [
    {
     "data": {
      "text/plain": [
       "array([     0, 365428, 383035, 392994, 398677, 402202, 410326, 413635,\n",
       "       416354, 423061, 425903, 427975, 430191, 433944, 435426, 436713,\n",
       "       439863, 441195, 442612, 448251, 448699, 449139, 449541, 450703,\n",
       "       451999, 453427, 453937, 454612, 455658, 456056, 457087, 457861,\n",
       "       458622, 458901, 459177, 460232, 460510, 461030, 462614, 464654,\n",
       "       464957, 465227, 465958, 466300, 466998, 467220, 467659, 468391,\n",
       "       468491, 469616, 469955, 470437, 470617, 471021, 471569, 471849,\n",
       "       472567, 472933, 473540, 474311, 474426, 474628, 475045, 475358,\n",
       "       475734, 476704, 476964, 477114, 477324, 478480, 478839, 479124,\n",
       "       479492, 479579, 480375, 481896, 482588, 482905, 483211, 485871,\n",
       "       486393, 486624, 486854, 487214, 487716, 487931, 488682, 488989,\n",
       "       490489, 490737, 492469, 492824, 493410, 493987, 494275, 494691,\n",
       "       494978, 495226, 495496, 495564, 495791, 504733, 505300, 505415,\n",
       "       505700, 505761, 506390, 506659, 506909, 507103, 507765, 507924,\n",
       "       508091, 508319, 508517, 508637, 508763, 508911, 509166, 509455,\n",
       "       509541, 509730, 510083, 510324, 511755, 511997, 512524, 512598,\n",
       "       512811, 513504, 514073, 514378, 514585, 514988, 515521, 515552,\n",
       "       515859, 515936, 516056, 516071, 516079, 516080])"
      ]
     },
     "execution_count": 15,
     "metadata": {},
     "output_type": "execute_result"
    }
   ],
   "source": [
    "missing_labels_imputed"
   ]
  },
  {
   "cell_type": "code",
   "execution_count": 16,
   "metadata": {},
   "outputs": [
    {
     "data": {
      "text/plain": [
       "-1    516080\n",
       " 0     91695\n",
       " 1     14796\n",
       "dtype: int64"
      ]
     },
     "execution_count": 16,
     "metadata": {},
     "output_type": "execute_result"
    }
   ],
   "source": [
    "pd.DataFrame(pre_pseudo_labels).value_counts()"
   ]
  },
  {
   "cell_type": "code",
   "execution_count": 17,
   "metadata": {},
   "outputs": [
    {
     "data": {
      "text/plain": [
       "0    453317\n",
       "1    169254\n",
       "dtype: int64"
      ]
     },
     "execution_count": 17,
     "metadata": {},
     "output_type": "execute_result"
    }
   ],
   "source": [
    "pd.DataFrame(y).value_counts()"
   ]
  },
  {
   "cell_type": "code",
   "execution_count": 18,
   "metadata": {},
   "outputs": [],
   "source": [
    "#save values\n",
    "accuracy_isvm = accuracy.copy()\n",
    "iterations_isvm = iterations\n",
    "missing_labels_imputed_isvm = missing_labels_imputed.copy()\n",
    "y_isvm = y.copy()\n",
    "accuracy_orig_data_isvm = accuracy_orig_data.copy()\n",
    "auc_isvm = auc.copy()\n",
    "auc_orig_isvm = auc_orig.copy()"
   ]
  },
  {
   "cell_type": "code",
   "execution_count": null,
   "metadata": {},
   "outputs": [],
   "source": []
  },
  {
   "cell_type": "markdown",
   "metadata": {},
   "source": [
    "# Cluster-then-label (fuzzy c-means & svm approach)\n",
    "1. visualize clusters with TSNE\n",
    "2. fuzzy c-means clusters\n",
    "3. analysis of cluster separability\n",
    "4. Assign labels\n",
    "5. SVM and look at accuracy"
   ]
  },
  {
   "cell_type": "code",
   "execution_count": 185,
   "metadata": {},
   "outputs": [],
   "source": [
    "#conda install fuzzy-c-means"
   ]
  },
  {
   "cell_type": "code",
   "execution_count": 186,
   "metadata": {},
   "outputs": [],
   "source": [
    "import skfuzzy as fuzz\n",
    "from sklearn.mixture import GaussianMixture\n",
    "from sklearn.cluster import KMeans"
   ]
  },
  {
   "cell_type": "markdown",
   "metadata": {},
   "source": [
    "#### Optimizing and utilizing PCA before KMeans"
   ]
  },
  {
   "cell_type": "code",
   "execution_count": 187,
   "metadata": {},
   "outputs": [],
   "source": [
    "from sklearn.decomposition import TruncatedSVD"
   ]
  },
  {
   "cell_type": "code",
   "execution_count": 188,
   "metadata": {},
   "outputs": [],
   "source": [
    "def select_n_components(var_ratio, goal_var: float) -> int:\n",
    "    # Set initial variance explained so far\n",
    "    total_variance = 0.0\n",
    "    \n",
    "    # Set initial number of features\n",
    "    n_components = 0\n",
    "    \n",
    "    # For the explained variance of each feature:\n",
    "    for explained_variance in var_ratio:\n",
    "        \n",
    "        # Add the explained variance to the total\n",
    "        total_variance += explained_variance\n",
    "        \n",
    "        # Add one to the number of components\n",
    "        n_components += 1\n",
    "        \n",
    "        # If we reach our goal level of explained variance\n",
    "        if total_variance >= goal_var:\n",
    "            # End the loop\n",
    "            break\n",
    "            \n",
    "    # Return the number of components\n",
    "    return n_components"
   ]
  },
  {
   "cell_type": "code",
   "execution_count": 189,
   "metadata": {},
   "outputs": [
    {
     "name": "stdout",
     "output_type": "stream",
     "text": [
      "2\n"
     ]
    }
   ],
   "source": [
    "tsvd = TruncatedSVD()\n",
    "tsvd.fit(df)\n",
    "optimal_comp = select_n_components(tsvd.explained_variance_ratio_, 0.999999)\n",
    "print(optimal_comp)"
   ]
  },
  {
   "cell_type": "code",
   "execution_count": 190,
   "metadata": {},
   "outputs": [],
   "source": [
    "#tsvd = TruncatedSVD(n_components = optimal_comp)\n",
    "tsvd = TruncatedSVD(n_components = 100)\n",
    "df_pca = tsvd.fit_transform(df)"
   ]
  },
  {
   "cell_type": "code",
   "execution_count": 191,
   "metadata": {},
   "outputs": [
    {
     "data": {
      "text/plain": [
       "(622571, 100)"
      ]
     },
     "execution_count": 191,
     "metadata": {},
     "output_type": "execute_result"
    }
   ],
   "source": [
    "df_pca.shape"
   ]
  },
  {
   "cell_type": "markdown",
   "metadata": {},
   "source": [
    "We are going to use a sample to determine the optimal K value here for KMeans"
   ]
  },
  {
   "cell_type": "code",
   "execution_count": 192,
   "metadata": {},
   "outputs": [],
   "source": [
    "sample = np.random.choice(list(range(0,df.shape[0])), 2000)"
   ]
  },
  {
   "cell_type": "code",
   "execution_count": 193,
   "metadata": {},
   "outputs": [],
   "source": [
    "from sklearn.cluster import KMeans #https://medium.com/analytics-vidhya/how-to-determine-the-optimal-k-for-k-means-708505d204eb\n",
    "\n",
    "# function returns WSS score for k values from 1 to kmax\n",
    "def calculate_WSS(points, kmax):\n",
    "  sse = []\n",
    "  for k in range(1, kmax+1):\n",
    "    kmeans = KMeans(n_clusters = k).fit(points)\n",
    "    centroids = kmeans.cluster_centers_\n",
    "    pred_clusters = kmeans.predict(points)\n",
    "    curr_sse = 0\n",
    "    \n",
    "    # calculate square of Euclidean distance of each point from its cluster center and add to current WSS\n",
    "    for i in range(points.shape[0]):\n",
    "      curr_center = centroids[pred_clusters[i]]\n",
    "      curr_sse += (points[i, 0] - curr_center[0]) ** 2 + (points[i, 1] - curr_center[1]) ** 2\n",
    "      \n",
    "    sse.append(curr_sse)\n",
    "  return sse"
   ]
  },
  {
   "cell_type": "code",
   "execution_count": 194,
   "metadata": {},
   "outputs": [],
   "source": [
    " optimal_k = np.argmin(calculate_WSS(df_pca[sample], 10)) +1 #plus 1 for index starts at 1 as min cluster size"
   ]
  },
  {
   "cell_type": "code",
   "execution_count": 195,
   "metadata": {},
   "outputs": [
    {
     "name": "stdout",
     "output_type": "stream",
     "text": [
      "3\n"
     ]
    }
   ],
   "source": [
    "print(optimal_k)"
   ]
  },
  {
   "cell_type": "markdown",
   "metadata": {},
   "source": [
    "Run our clustering now"
   ]
  },
  {
   "cell_type": "code",
   "execution_count": 196,
   "metadata": {},
   "outputs": [],
   "source": [
    "#kmeans = KMeans(n_clusters=optimal_k, random_state=0)\n",
    "kmeans = KMeans(n_clusters=optimal_k, random_state=0)"
   ]
  },
  {
   "cell_type": "code",
   "execution_count": 197,
   "metadata": {},
   "outputs": [],
   "source": [
    "#array of the\n",
    "df_cluster = kmeans.fit_transform(df_pca)\n",
    "df_cluster_assignments = kmeans.fit_predict(df_pca)"
   ]
  },
  {
   "cell_type": "code",
   "execution_count": 198,
   "metadata": {},
   "outputs": [
    {
     "data": {
      "text/plain": [
       "(622571, 3)"
      ]
     },
     "execution_count": 198,
     "metadata": {},
     "output_type": "execute_result"
    }
   ],
   "source": [
    "df_cluster.shape"
   ]
  },
  {
   "cell_type": "code",
   "execution_count": 199,
   "metadata": {},
   "outputs": [],
   "source": [
    "#for this model we are changing the X we use. \n",
    "df_orig = df.copy()\n",
    "df = df_cluster.copy()"
   ]
  },
  {
   "cell_type": "markdown",
   "metadata": {},
   "source": [
    "use our new clustering df to run svm classifier"
   ]
  },
  {
   "cell_type": "code",
   "execution_count": 200,
   "metadata": {},
   "outputs": [],
   "source": [
    "#resetup since we are using warm_start\n",
    "clf = SGDClassifier(warm_start=True, loss='modified_huber', tol=1e-3, max_iter=1000, class_weight='balanced') #warm_start is import for our setup"
   ]
  },
  {
   "cell_type": "code",
   "execution_count": 201,
   "metadata": {},
   "outputs": [
    {
     "name": "stdout",
     "output_type": "stream",
     "text": [
      "25\n",
      "--- 82.9164776802063 seconds ---\n"
     ]
    }
   ],
   "source": [
    "#start timer\n",
    "start_time = time.time()\n",
    "\n",
    "iterations = 1\n",
    "limit = limit_master\n",
    "step = step_master\n",
    "y = pre_pseudo_labels.copy()\n",
    "\n",
    "accuracy = []\n",
    "accuracy_orig_data = []\n",
    "auc = []\n",
    "auc_orig = []\n",
    "remain_unlabeled_obs = [(y == -1).sum()]\n",
    "converged = False\n",
    "while iterations < iterations_max and (not converged):\n",
    "    y0 = y.copy()\n",
    "    \n",
    "    #restart the filters based on what we have labeled now\n",
    "    pseudo_assigned = (y != -1).ravel() #update to reflect newly assigned labels that don't require a label assignment now\n",
    "    pseudo_missing = np.invert(pseudo_assigned)\n",
    "    #restart the split\n",
    "    x_train, x_test, y_train, y_test = train_test_split(df[pseudo_assigned], y[pseudo_assigned], test_size=0.15, random_state=30, stratify=y[pseudo_assigned])\n",
    "   \n",
    "    #fit on most recent training data\n",
    "    clf.fit(x_train, y_train)\n",
    "    probs = clf.predict_proba(df)\n",
    "    \n",
    "    #save accuracy\n",
    "    y_test_preds = clf.predict(x_test)\n",
    "    accuracy.append(accuracy_score(y_test, y_test_preds))\n",
    "    auc.append(roc_auc_score(y_test, y_test_preds))\n",
    "    \n",
    "    #accuracy on just the original labeled points\n",
    "    accuracy_orig_data.append(accuracy_score(y[pre_ssl_labeled], clf.predict(df)[pre_ssl_labeled]))\n",
    "    auc_orig.append(roc_auc_score(y[pre_ssl_labeled], clf.predict(df)[pre_ssl_labeled]))\n",
    "    \n",
    "    #filter for if an element met the min probability in any column\n",
    "    min_prob_met = probs > limit\n",
    "    \n",
    "    #filter out rows where the min probability is not met on any obs for either class\n",
    "    any_strong_prediction = min_prob_met.sum(axis=1) != 0\n",
    "    \n",
    "    #will give us which class had the highest probability (combined with any_strong_prediction will get us where we want to be)\n",
    "    highest_prob_class = np.argmax(probs, axis=1)\n",
    "    \n",
    "    #save predictions of missing label data points and where we had a strong enough prediction for either class\n",
    "    y[pseudo_missing & any_strong_prediction] = highest_prob_class[pseudo_missing & any_strong_prediction]\n",
    "    \n",
    "    \n",
    "    #how are we doing now with accuracy and these new labels\n",
    "    #y_test_preds = clf.predict(x_test)\n",
    "    #accuracy.append(accuracy_score(y_test, y_test_preds))\n",
    "    remain_unlabeled_obs.append((y == -1).sum())\n",
    "    \n",
    "    if np.array_equal(y0,y):\n",
    "        limit = limit - step\n",
    "    if (remain_unlabeled_obs[-2] - remain_unlabeled_obs[-1]) < min_change_step:\n",
    "        limit = limit - step\n",
    "    if remain_unlabeled_obs[-1] == 0:\n",
    "        converged = True\n",
    "        \n",
    "    #print((y == -1).sum()) #obs still to update after this iteration\n",
    "    #print(limit)\n",
    "    iterations +=1\n",
    "print(iterations)    \n",
    "#final accuracy\n",
    "pseudo_assigned = (y != -1).ravel()\n",
    "csvm_y = y.copy()\n",
    "pseudo_missing = np.invert(pseudo_assigned)\n",
    "x_train, x_test, y_train, y_test = train_test_split(df[pseudo_assigned], y[pseudo_assigned], test_size=0.15, random_state=30, stratify=y[pseudo_assigned])\n",
    "clf.fit(x_train, y_train)\n",
    "probs_csvm = clf.predict_proba(df)\n",
    "y_test_preds = clf.predict(x_test)\n",
    "accuracy.append(accuracy_score(y_test, y_test_preds))\n",
    "auc.append(roc_auc_score(y_test, y_test_preds))\n",
    "accuracy_orig_data.append(accuracy_score(y[pre_ssl_labeled], clf.predict(df)[pre_ssl_labeled]))\n",
    "auc_orig.append(roc_auc_score(y[pre_ssl_labeled], clf.predict(df)[pre_ssl_labeled]))\n",
    "\n",
    "#end timer\n",
    "print(\"--- %s seconds ---\" % (time.time() - start_time))"
   ]
  },
  {
   "cell_type": "code",
   "execution_count": 202,
   "metadata": {},
   "outputs": [],
   "source": [
    "#return to normal\n",
    "df = df_orig.copy()"
   ]
  },
  {
   "cell_type": "code",
   "execution_count": 203,
   "metadata": {},
   "outputs": [
    {
     "data": {
      "text/plain": [
       "25"
      ]
     },
     "execution_count": 203,
     "metadata": {},
     "output_type": "execute_result"
    }
   ],
   "source": [
    "len(list(range(0,iterations)))"
   ]
  },
  {
   "cell_type": "code",
   "execution_count": 204,
   "metadata": {},
   "outputs": [
    {
     "data": {
      "text/plain": [
       "Text(0.5, 1.0, 'Accuracy Performance with Semi Supervised Learning')"
      ]
     },
     "execution_count": 204,
     "metadata": {},
     "output_type": "execute_result"
    },
    {
     "data": {
      "image/png": "[encoded data removed]",
      "text/plain": [
       "<Figure size 432x288 with 1 Axes>"
      ]
     },
     "metadata": {
      "needs_background": "light"
     },
     "output_type": "display_data"
    }
   ],
   "source": [
    "plt.plot(range(0,iterations), accuracy)\n",
    "plt.xlabel('iterations')\n",
    "plt.ylabel('Accuracy')\n",
    "plt.title('Accuracy Performance with Semi Supervised Learning')"
   ]
  },
  {
   "cell_type": "code",
   "execution_count": 205,
   "metadata": {
    "scrolled": true
   },
   "outputs": [],
   "source": [
    "missing_labels_imputed = abs(remain_unlabeled_obs - remain_unlabeled_obs[0])"
   ]
  },
  {
   "cell_type": "code",
   "execution_count": 206,
   "metadata": {},
   "outputs": [
    {
     "data": {
      "text/plain": [
       "Text(0.5, 1.0, 'Accuracy Performance with Semi Supervised Learning')"
      ]
     },
     "execution_count": 206,
     "metadata": {},
     "output_type": "execute_result"
    },
    {
     "data": {
      "image/png": "[encoded data removed]",
      "text/plain": [
       "<Figure size 432x288 with 1 Axes>"
      ]
     },
     "metadata": {
      "needs_background": "light"
     },
     "output_type": "display_data"
    }
   ],
   "source": [
    "plt.plot(missing_labels_imputed, accuracy)\n",
    "plt.xlabel('# Missing Labels Imputed')\n",
    "plt.ylabel('Accuracy')\n",
    "plt.title('Accuracy Performance with Semi Supervised Learning')"
   ]
  },
  {
   "cell_type": "code",
   "execution_count": 207,
   "metadata": {},
   "outputs": [
    {
     "data": {
      "text/plain": [
       "array([     0,      0, 215114, 217664, 254206, 377231, 394871, 405204,\n",
       "       411119, 420459, 423192, 429001, 429001, 459326, 474385, 475154,\n",
       "       475155, 476230, 497242, 497270, 497299, 497871, 500907, 500907,\n",
       "       516080])"
      ]
     },
     "execution_count": 207,
     "metadata": {},
     "output_type": "execute_result"
    }
   ],
   "source": [
    "missing_labels_imputed"
   ]
  },
  {
   "cell_type": "code",
   "execution_count": 208,
   "metadata": {
    "scrolled": true
   },
   "outputs": [
    {
     "data": {
      "text/plain": [
       "-1    516080\n",
       " 0     91695\n",
       " 1     14796\n",
       "dtype: int64"
      ]
     },
     "execution_count": 208,
     "metadata": {},
     "output_type": "execute_result"
    }
   ],
   "source": [
    "pd.DataFrame(pre_pseudo_labels).value_counts()"
   ]
  },
  {
   "cell_type": "code",
   "execution_count": 209,
   "metadata": {},
   "outputs": [
    {
     "data": {
      "text/plain": [
       "0    348283\n",
       "1    274288\n",
       "dtype: int64"
      ]
     },
     "execution_count": 209,
     "metadata": {},
     "output_type": "execute_result"
    }
   ],
   "source": [
    "pd.DataFrame(y).value_counts()"
   ]
  },
  {
   "cell_type": "code",
   "execution_count": 210,
   "metadata": {},
   "outputs": [],
   "source": [
    "#save values\n",
    "accuracy_csvm = accuracy.copy()\n",
    "iterations_csvm = iterations\n",
    "missing_labels_imputed_csvm = missing_labels_imputed.copy()\n",
    "y_csvm = y.copy()\n",
    "accuracy_orig_data_csvm = accuracy_orig_data.copy()\n",
    "auc_csvm = auc.copy()\n",
    "auc_orig_csvm = auc_orig.copy()"
   ]
  },
  {
   "cell_type": "code",
   "execution_count": null,
   "metadata": {},
   "outputs": [],
   "source": []
  },
  {
   "cell_type": "code",
   "execution_count": null,
   "metadata": {},
   "outputs": [],
   "source": []
  },
  {
   "cell_type": "markdown",
   "metadata": {},
   "source": [
    "# ROUND 2: Cluster-then-label (fuzzy c-means & svm approach)\n",
    "1. visualize clusters with TSNE\n",
    "2. fuzzy c-means clusters\n",
    "3. analysis of cluster separability\n",
    "4. Assign labels\n",
    "5. SVM and look at accuracy"
   ]
  },
  {
   "cell_type": "code",
   "execution_count": 211,
   "metadata": {},
   "outputs": [],
   "source": [
    "#conda install fuzzy-c-means"
   ]
  },
  {
   "cell_type": "code",
   "execution_count": 212,
   "metadata": {},
   "outputs": [],
   "source": [
    "import skfuzzy as fuzz\n",
    "from sklearn.mixture import GaussianMixture\n",
    "from sklearn.cluster import KMeans"
   ]
  },
  {
   "cell_type": "markdown",
   "metadata": {},
   "source": [
    "#### Optimizing and utilizing PCA before KMeans"
   ]
  },
  {
   "cell_type": "code",
   "execution_count": 213,
   "metadata": {},
   "outputs": [],
   "source": [
    "from sklearn.decomposition import TruncatedSVD"
   ]
  },
  {
   "cell_type": "code",
   "execution_count": 214,
   "metadata": {},
   "outputs": [],
   "source": [
    "def select_n_components(var_ratio, goal_var: float) -> int:\n",
    "    # Set initial variance explained so far\n",
    "    total_variance = 0.0\n",
    "    \n",
    "    # Set initial number of features\n",
    "    n_components = 0\n",
    "    \n",
    "    # For the explained variance of each feature:\n",
    "    for explained_variance in var_ratio:\n",
    "        \n",
    "        # Add the explained variance to the total\n",
    "        total_variance += explained_variance\n",
    "        \n",
    "        # Add one to the number of components\n",
    "        n_components += 1\n",
    "        \n",
    "        # If we reach our goal level of explained variance\n",
    "        if total_variance >= goal_var:\n",
    "            # End the loop\n",
    "            break\n",
    "            \n",
    "    # Return the number of components\n",
    "    return n_components"
   ]
  },
  {
   "cell_type": "code",
   "execution_count": 215,
   "metadata": {},
   "outputs": [
    {
     "name": "stdout",
     "output_type": "stream",
     "text": [
      "2\n"
     ]
    }
   ],
   "source": [
    "tsvd = TruncatedSVD()\n",
    "tsvd.fit(df)\n",
    "optimal_comp = select_n_components(tsvd.explained_variance_ratio_, 0.999999)\n",
    "print(optimal_comp)"
   ]
  },
  {
   "cell_type": "code",
   "execution_count": 216,
   "metadata": {},
   "outputs": [],
   "source": [
    "#tsvd = TruncatedSVD(n_components = optimal_comp)\n",
    "tsvd = TruncatedSVD(n_components = 100)\n",
    "df_pca = tsvd.fit_transform(df)"
   ]
  },
  {
   "cell_type": "code",
   "execution_count": 217,
   "metadata": {},
   "outputs": [
    {
     "data": {
      "text/plain": [
       "(622571, 100)"
      ]
     },
     "execution_count": 217,
     "metadata": {},
     "output_type": "execute_result"
    }
   ],
   "source": [
    "df_pca.shape"
   ]
  },
  {
   "cell_type": "markdown",
   "metadata": {},
   "source": [
    "We are going to use a sample to determine the optimal K value here for KMeans"
   ]
  },
  {
   "cell_type": "code",
   "execution_count": 218,
   "metadata": {},
   "outputs": [],
   "source": [
    "sample = np.random.choice(list(range(0,df.shape[0])), 2000)"
   ]
  },
  {
   "cell_type": "code",
   "execution_count": 219,
   "metadata": {},
   "outputs": [],
   "source": [
    "from sklearn.cluster import KMeans #https://medium.com/analytics-vidhya/how-to-determine-the-optimal-k-for-k-means-708505d204eb\n",
    "\n",
    "# function returns WSS score for k values from 1 to kmax\n",
    "def calculate_WSS(points, kmax):\n",
    "  sse = []\n",
    "  for k in range(1, kmax+1):\n",
    "    kmeans = KMeans(n_clusters = k).fit(points)\n",
    "    centroids = kmeans.cluster_centers_\n",
    "    pred_clusters = kmeans.predict(points)\n",
    "    curr_sse = 0\n",
    "    \n",
    "    # calculate square of Euclidean distance of each point from its cluster center and add to current WSS\n",
    "    for i in range(points.shape[0]):\n",
    "      curr_center = centroids[pred_clusters[i]]\n",
    "      curr_sse += (points[i, 0] - curr_center[0]) ** 2 + (points[i, 1] - curr_center[1]) ** 2\n",
    "      \n",
    "    sse.append(curr_sse)\n",
    "  return sse"
   ]
  },
  {
   "cell_type": "code",
   "execution_count": 220,
   "metadata": {},
   "outputs": [],
   "source": [
    " optimal_k = np.argmin(calculate_WSS(df_pca[sample], 10)) +1 #plus 1 for index starts at 1 as min cluster size"
   ]
  },
  {
   "cell_type": "code",
   "execution_count": 221,
   "metadata": {},
   "outputs": [
    {
     "name": "stdout",
     "output_type": "stream",
     "text": [
      "10\n"
     ]
    }
   ],
   "source": [
    "print(optimal_k)"
   ]
  },
  {
   "cell_type": "markdown",
   "metadata": {},
   "source": [
    "Run our clustering now"
   ]
  },
  {
   "cell_type": "code",
   "execution_count": 222,
   "metadata": {},
   "outputs": [],
   "source": [
    "#kmeans = KMeans(n_clusters=optimal_k, random_state=0)\n",
    "kmeans = KMeans(n_clusters=10, random_state=0)"
   ]
  },
  {
   "cell_type": "code",
   "execution_count": 223,
   "metadata": {},
   "outputs": [],
   "source": [
    "#array of the\n",
    "df_cluster = kmeans.fit_transform(df_pca)\n",
    "df_cluster_assignments = kmeans.fit_predict(df_pca)"
   ]
  },
  {
   "cell_type": "code",
   "execution_count": 224,
   "metadata": {},
   "outputs": [
    {
     "data": {
      "text/plain": [
       "(622571, 10)"
      ]
     },
     "execution_count": 224,
     "metadata": {},
     "output_type": "execute_result"
    }
   ],
   "source": [
    "df_cluster.shape"
   ]
  },
  {
   "cell_type": "code",
   "execution_count": 225,
   "metadata": {},
   "outputs": [],
   "source": [
    "#for this model we are changing the X we use. \n",
    "df_orig = df.copy()\n",
    "df = df_cluster.copy()"
   ]
  },
  {
   "cell_type": "markdown",
   "metadata": {},
   "source": [
    "use our new clustering df to run svm classifier"
   ]
  },
  {
   "cell_type": "code",
   "execution_count": 226,
   "metadata": {},
   "outputs": [],
   "source": [
    "#resetup since we are using warm_start\n",
    "clf = SGDClassifier(warm_start=True, loss='modified_huber', tol=1e-3, max_iter=1000, class_weight='balanced') #warm_start is import for our setup"
   ]
  },
  {
   "cell_type": "code",
   "execution_count": 227,
   "metadata": {},
   "outputs": [
    {
     "name": "stdout",
     "output_type": "stream",
     "text": [
      "18\n",
      "--- 104.14280772209167 seconds ---\n"
     ]
    }
   ],
   "source": [
    "#start timer\n",
    "start_time = time.time()\n",
    "\n",
    "iterations = 1\n",
    "limit = limit_master\n",
    "step = step_master\n",
    "y = pre_pseudo_labels.copy()\n",
    "\n",
    "accuracy = []\n",
    "accuracy_orig_data = []\n",
    "auc = []\n",
    "auc_orig = []\n",
    "remain_unlabeled_obs = [(y == -1).sum()]\n",
    "converged = False\n",
    "while iterations < iterations_max and (not converged):\n",
    "    y0 = y.copy()\n",
    "    \n",
    "    #restart the filters based on what we have labeled now\n",
    "    pseudo_assigned = (y != -1).ravel() #update to reflect newly assigned labels that don't require a label assignment now\n",
    "    pseudo_missing = np.invert(pseudo_assigned)\n",
    "    #restart the split\n",
    "    x_train, x_test, y_train, y_test = train_test_split(df[pseudo_assigned], y[pseudo_assigned], test_size=0.15, random_state=30, stratify=y[pseudo_assigned])\n",
    "   \n",
    "    #fit on most recent training data\n",
    "    clf.fit(x_train, y_train)\n",
    "    probs = clf.predict_proba(df)\n",
    "    \n",
    "    #save accuracy\n",
    "    y_test_preds = clf.predict(x_test)\n",
    "    accuracy.append(accuracy_score(y_test, y_test_preds))\n",
    "    auc.append(roc_auc_score(y_test, y_test_preds))\n",
    "    \n",
    "    #accuracy on just the original labeled points\n",
    "    accuracy_orig_data.append(accuracy_score(y[pre_ssl_labeled], clf.predict(df)[pre_ssl_labeled]))\n",
    "    auc_orig.append(roc_auc_score(y[pre_ssl_labeled], clf.predict(df)[pre_ssl_labeled]))\n",
    "    \n",
    "    #filter for if an element met the min probability in any column\n",
    "    min_prob_met = probs > limit\n",
    "    \n",
    "    #filter out rows where the min probability is not met on any obs for either class\n",
    "    any_strong_prediction = min_prob_met.sum(axis=1) != 0\n",
    "    \n",
    "    #will give us which class had the highest probability (combined with any_strong_prediction will get us where we want to be)\n",
    "    highest_prob_class = np.argmax(probs, axis=1)\n",
    "    \n",
    "    #save predictions of missing label data points and where we had a strong enough prediction for either class\n",
    "    y[pseudo_missing & any_strong_prediction] = highest_prob_class[pseudo_missing & any_strong_prediction]\n",
    "    \n",
    "    \n",
    "    #how are we doing now with accuracy and these new labels\n",
    "    #y_test_preds = clf.predict(x_test)\n",
    "    #accuracy.append(accuracy_score(y_test, y_test_preds))\n",
    "    remain_unlabeled_obs.append((y == -1).sum())\n",
    "    \n",
    "    if np.array_equal(y0,y):\n",
    "        limit = limit - step\n",
    "    if (remain_unlabeled_obs[-2] - remain_unlabeled_obs[-1]) < min_change_step:\n",
    "        limit = limit - step\n",
    "    if remain_unlabeled_obs[-1] == 0:\n",
    "        converged = True\n",
    "        \n",
    "    #print((y == -1).sum()) #obs still to update after this iteration\n",
    "    #print(limit)\n",
    "    iterations +=1\n",
    "print(iterations)    \n",
    "#final accuracy\n",
    "pseudo_assigned = (y != -1).ravel()\n",
    "csvm_y = y.copy()\n",
    "pseudo_missing = np.invert(pseudo_assigned)\n",
    "x_train, x_test, y_train, y_test = train_test_split(df[pseudo_assigned], y[pseudo_assigned], test_size=0.15, random_state=30, stratify=y[pseudo_assigned])\n",
    "clf.fit(x_train, y_train)\n",
    "probs_csvm = clf.predict_proba(df)\n",
    "y_test_preds = clf.predict(x_test)\n",
    "accuracy.append(accuracy_score(y_test, y_test_preds))\n",
    "auc.append(roc_auc_score(y_test, y_test_preds))\n",
    "accuracy_orig_data.append(accuracy_score(y[pre_ssl_labeled], clf.predict(df)[pre_ssl_labeled]))\n",
    "auc_orig.append(roc_auc_score(y[pre_ssl_labeled], clf.predict(df)[pre_ssl_labeled]))\n",
    "\n",
    "#end timer\n",
    "print(\"--- %s seconds ---\" % (time.time() - start_time))"
   ]
  },
  {
   "cell_type": "code",
   "execution_count": 228,
   "metadata": {},
   "outputs": [],
   "source": [
    "#return to normal\n",
    "df = df_orig.copy()"
   ]
  },
  {
   "cell_type": "code",
   "execution_count": 229,
   "metadata": {},
   "outputs": [
    {
     "data": {
      "text/plain": [
       "18"
      ]
     },
     "execution_count": 229,
     "metadata": {},
     "output_type": "execute_result"
    }
   ],
   "source": [
    "len(list(range(0,iterations)))"
   ]
  },
  {
   "cell_type": "code",
   "execution_count": 230,
   "metadata": {},
   "outputs": [
    {
     "data": {
      "text/plain": [
       "Text(0.5, 1.0, 'Accuracy Performance with Semi Supervised Learning')"
      ]
     },
     "execution_count": 230,
     "metadata": {},
     "output_type": "execute_result"
    },
    {
     "data": {
      "image/png": "[encoded data removed]",
      "text/plain": [
       "<Figure size 432x288 with 1 Axes>"
      ]
     },
     "metadata": {
      "needs_background": "light"
     },
     "output_type": "display_data"
    }
   ],
   "source": [
    "plt.plot(range(0,iterations), accuracy)\n",
    "plt.xlabel('iterations')\n",
    "plt.ylabel('Accuracy')\n",
    "plt.title('Accuracy Performance with Semi Supervised Learning')"
   ]
  },
  {
   "cell_type": "code",
   "execution_count": 231,
   "metadata": {
    "scrolled": true
   },
   "outputs": [],
   "source": [
    "missing_labels_imputed = abs(remain_unlabeled_obs - remain_unlabeled_obs[0])"
   ]
  },
  {
   "cell_type": "code",
   "execution_count": 232,
   "metadata": {},
   "outputs": [
    {
     "data": {
      "text/plain": [
       "Text(0.5, 1.0, 'Accuracy Performance with Semi Supervised Learning')"
      ]
     },
     "execution_count": 232,
     "metadata": {},
     "output_type": "execute_result"
    },
    {
     "data": {
      "image/png": "[encoded data removed]",
      "text/plain": [
       "<Figure size 432x288 with 1 Axes>"
      ]
     },
     "metadata": {
      "needs_background": "light"
     },
     "output_type": "display_data"
    }
   ],
   "source": [
    "plt.plot(missing_labels_imputed, accuracy)\n",
    "plt.xlabel('# Missing Labels Imputed')\n",
    "plt.ylabel('Accuracy')\n",
    "plt.title('Accuracy Performance with Semi Supervised Learning')"
   ]
  },
  {
   "cell_type": "code",
   "execution_count": 233,
   "metadata": {},
   "outputs": [
    {
     "data": {
      "text/plain": [
       "array([     0, 296236, 341714, 420308, 474573, 474602, 492334, 492334,\n",
       "       512238, 512238, 513014, 513162, 513275, 515464, 515464, 515840,\n",
       "       516077, 516080])"
      ]
     },
     "execution_count": 233,
     "metadata": {},
     "output_type": "execute_result"
    }
   ],
   "source": [
    "missing_labels_imputed"
   ]
  },
  {
   "cell_type": "code",
   "execution_count": 234,
   "metadata": {
    "scrolled": true
   },
   "outputs": [
    {
     "data": {
      "text/plain": [
       "-1    516080\n",
       " 0     91695\n",
       " 1     14796\n",
       "dtype: int64"
      ]
     },
     "execution_count": 234,
     "metadata": {},
     "output_type": "execute_result"
    }
   ],
   "source": [
    "pd.DataFrame(pre_pseudo_labels).value_counts()"
   ]
  },
  {
   "cell_type": "code",
   "execution_count": 235,
   "metadata": {},
   "outputs": [
    {
     "data": {
      "text/plain": [
       "1    360703\n",
       "0    261868\n",
       "dtype: int64"
      ]
     },
     "execution_count": 235,
     "metadata": {},
     "output_type": "execute_result"
    }
   ],
   "source": [
    "pd.DataFrame(y).value_counts()"
   ]
  },
  {
   "cell_type": "code",
   "execution_count": 236,
   "metadata": {},
   "outputs": [],
   "source": [
    "#save values\n",
    "accuracy_csvm2 = accuracy.copy()\n",
    "iterations_csvm2 = iterations\n",
    "missing_labels_imputed_csvm2 = missing_labels_imputed.copy()\n",
    "y_csvm2 = y.copy()\n",
    "accuracy_orig_data_csvm2 = accuracy_orig_data.copy()\n",
    "auc_csvm2 = auc.copy()\n",
    "auc_orig_csvm2 = auc_orig.copy()\n",
    "probs_csvm2 = probs_csvm"
   ]
  },
  {
   "cell_type": "code",
   "execution_count": null,
   "metadata": {},
   "outputs": [],
   "source": []
  },
  {
   "cell_type": "markdown",
   "metadata": {},
   "source": [
    "# KNN Label Propagation (Previously TSVM) "
   ]
  },
  {
   "cell_type": "code",
   "execution_count": 237,
   "metadata": {},
   "outputs": [],
   "source": [
    "#ONLY IF WE HAVE TIME!!!"
   ]
  },
  {
   "cell_type": "markdown",
   "metadata": {},
   "source": []
  },
  {
   "cell_type": "code",
   "execution_count": 238,
   "metadata": {},
   "outputs": [],
   "source": [
    "#can't accept a sparse X matrix\n",
    "#from sklearn.semi_supervised import LabelPropagation\n",
    "#clf = LabelPropagation(kernel = 'knn')"
   ]
  },
  {
   "cell_type": "code",
   "execution_count": 239,
   "metadata": {},
   "outputs": [],
   "source": [
    "from sklearn.semi_supervised import SelfTrainingClassifier\n",
    "from sklearn.neural_network import MLPClassifier\n",
    "#NN =  MLPClassifier(random_state=1, warm_start=True)\n",
    "#clf = SelfTrainingClassifier(NN)\n",
    "#clf = MLPClassifier(random_state=1, warm_start=True)\n",
    "#clf=MLPClassifier(random_state=1,warm_start=True, hidden_layer_sizes = (50,), max_iter=50, n_iter_no_change=3)"
   ]
  },
  {
   "cell_type": "code",
   "execution_count": 240,
   "metadata": {},
   "outputs": [],
   "source": [
    "#reset y\n",
    "#y = pre_pseudo_labels.copy()\n",
    "#run model, -1 labels are considered \"unlabeled\"\n",
    "#clf.fit(df, y)"
   ]
  },
  {
   "cell_type": "markdown",
   "metadata": {},
   "source": [
    "#start timer\n",
    "start_time = time.time()\n",
    "\n",
    "iterations = 1\n",
    "limit = limit_master\n",
    "step = step_master\n",
    "y = pre_pseudo_labels.copy()\n",
    "\n",
    "accuracy = []\n",
    "accuracy_orig_data = []\n",
    "remain_unlabeled_obs = [(y == -1).sum()]\n",
    "converged = False\n",
    "while iterations < iterations_max and (not converged):\n",
    "    y0 = y.copy()\n",
    "    \n",
    "    #restart the filters based on what we have labeled now\n",
    "    pseudo_assigned = (y != -1).ravel() #update to reflect newly assigned labels that don't require a label assignment now\n",
    "    pseudo_missing = np.invert(pseudo_assigned)\n",
    "    #restart the split\n",
    "    x_train, x_test, y_train, y_test = train_test_split(df[pseudo_assigned], y[pseudo_assigned], test_size=0.15, random_state=30, stratify=y[pseudo_assigned])\n",
    "   \n",
    "    #fit on most recent training data\n",
    "    clf.fit(x_train, y_train)\n",
    "    probs = clf.predict_proba(df)\n",
    "    \n",
    "    #save accuracy\n",
    "    y_test_preds = clf.predict(x_test)\n",
    "    accuracy.append(accuracy_score(y_test, y_test_preds))\n",
    "    \n",
    "    #accuracy on just the original labeled points\n",
    "    accuracy_orig_data.append(accuracy_score(y[pre_ssl_labeled], clf.predict(df)[pre_ssl_labeled]))\n",
    "    \n",
    "    \n",
    "    #filter for if an element met the min probability in any column\n",
    "    min_prob_met = probs > limit\n",
    "    \n",
    "    #filter out rows where the min probability is not met on any obs for either class\n",
    "    any_strong_prediction = min_prob_met.sum(axis=1) != 0\n",
    "    \n",
    "    #will give us which class had the highest probability (combined with any_strong_prediction will get us where we want to be)\n",
    "    highest_prob_class = np.argmax(probs, axis=1)\n",
    "    \n",
    "    #save predictions of missing label data points and where we had a strong enough prediction for either class\n",
    "    y[pseudo_missing & any_strong_prediction] = highest_prob_class[pseudo_missing & any_strong_prediction]\n",
    "    \n",
    "    \n",
    "    #how are we doing now with accuracy and these new labels\n",
    "    #y_test_preds = clf.predict(x_test)\n",
    "    #accuracy.append(accuracy_score(y_test, y_test_preds))\n",
    "    remain_unlabeled_obs.append((y == -1).sum())\n",
    "    \n",
    "    if np.array_equal(y0,y):\n",
    "        limit = limit - step\n",
    "    if (remain_unlabeled_obs[-2] - remain_unlabeled_obs[-1]) < min_change_step:\n",
    "        limit = limit - step\n",
    "    if remain_unlabeled_obs[-1] == 0:\n",
    "        converged = True\n",
    "        \n",
    "    #print((y == -1).sum()) #obs still to update after this iteration\n",
    "    #print(limit)\n",
    "    iterations +=1\n",
    "print(iterations)    \n",
    "#final accuracy\n",
    "pseudo_assigned = (y != -1).ravel()\n",
    "pseudo_missing = np.invert(pseudo_assigned)\n",
    "x_train, x_test, y_train, y_test = train_test_split(df[pseudo_assigned], y[pseudo_assigned], test_size=0.15, random_state=30, stratify=y[pseudo_assigned])\n",
    "clf.fit(x_train, y_train)\n",
    "probs_csvm = clf.predict_proba(df)\n",
    "y_test_preds = clf.predict(x_test)\n",
    "accuracy.append(accuracy_score(y_test, y_test_preds))\n",
    "accuracy_orig_data.append(accuracy_score(y[pre_ssl_labeled], clf.predict(df)[pre_ssl_labeled]))\n",
    "\n",
    "#end timer\n",
    "print(\"--- %s seconds ---\" % (time.time() - start_time))"
   ]
  },
  {
   "cell_type": "markdown",
   "metadata": {},
   "source": [
    "#start timer\n",
    "start_time = time.time()\n",
    "\n",
    "iterations = 1\n",
    "limit = limit_master\n",
    "step = step_master\n",
    "y = pre_pseudo_labels.copy()\n",
    "\n",
    "accuracy = []\n",
    "accuracy_orig_data = []\n",
    "remain_unlabeled_obs = [(y == -1).sum()]\n",
    "converged = False\n",
    "while iterations < iterations_max and (not converged):\n",
    "    y0 = y.copy()\n",
    "    \n",
    "    #restart the filters based on what we have labeled now\n",
    "    pseudo_assigned = (y != -1).ravel() #update to reflect newly assigned labels that don't require a label assignment now\n",
    "    pseudo_missing = np.invert(pseudo_assigned)\n",
    "    #restart the split\n",
    "    x_train, x_test, y_train, y_test = train_test_split(df[pseudo_assigned], y[pseudo_assigned], test_size=0.15, random_state=30, stratify=y[pseudo_assigned])\n",
    "   \n",
    "    #fit on most recent training data\n",
    "    clf.fit(x_train, y_train)\n",
    "    probs = clf.predict_proba(df)\n",
    "    \n",
    "    #save accuracy\n",
    "    y_test_preds = clf.predict(x_test)\n",
    "    accuracy.append(accuracy_score(y_test, y_test_preds))\n",
    "    \n",
    "    #accuracy on just the original labeled points\n",
    "    accuracy_orig_data.append(accuracy_score(y[pre_ssl_labeled], clf.predict(df)[pre_ssl_labeled]))\n",
    "    \n",
    "    \n",
    "    #filter for if an element met the min probability in any column\n",
    "    min_prob_met = probs > limit\n",
    "    \n",
    "    #filter out rows where the min probability is not met on any obs for either class\n",
    "    any_strong_prediction = min_prob_met.sum(axis=1) != 0\n",
    "    \n",
    "    #will give us which class had the highest probability (combined with any_strong_prediction will get us where we want to be)\n",
    "    highest_prob_class = np.argmax(probs, axis=1)\n",
    "    \n",
    "    #save predictions of missing label data points and where we had a strong enough prediction for either class\n",
    "    y[pseudo_missing & any_strong_prediction] = highest_prob_class[pseudo_missing & any_strong_prediction]\n",
    "    \n",
    "    \n",
    "    #how are we doing now with accuracy and these new labels\n",
    "    #y_test_preds = clf.predict(x_test)\n",
    "    #accuracy.append(accuracy_score(y_test, y_test_preds))\n",
    "    remain_unlabeled_obs.append((y == -1).sum())\n",
    "    \n",
    "    if np.array_equal(y0,y):\n",
    "        limit = limit - step\n",
    "    if (remain_unlabeled_obs[-2] - remain_unlabeled_obs[-1]) < min_change_step:\n",
    "        limit = limit - step\n",
    "    if remain_unlabeled_obs[-1] == 0:\n",
    "        converged = True\n",
    "        \n",
    "    #print((y == -1).sum()) #obs still to update after this iteration\n",
    "    #print(limit)\n",
    "    iterations +=1\n",
    "print(iterations)    \n",
    "#final accuracy\n",
    "pseudo_assigned = (y != -1).ravel()\n",
    "pseudo_missing = np.invert(pseudo_assigned)\n",
    "x_train, x_test, y_train, y_test = train_test_split(df[pseudo_assigned], y[pseudo_assigned], test_size=0.15, random_state=30, stratify=y[pseudo_assigned])\n",
    "clf.fit(x_train, y_train)\n",
    "probs_csvm = clf.predict_proba(df)\n",
    "y_test_preds = clf.predict(x_test)\n",
    "accuracy.append(accuracy_score(y_test, y_test_preds))\n",
    "accuracy_orig_data.append(accuracy_score(y[pre_ssl_labeled], clf.predict(df)[pre_ssl_labeled]))\n",
    "\n",
    "#end timer\n",
    "print(\"--- %s seconds ---\" % (time.time() - start_time))"
   ]
  },
  {
   "cell_type": "markdown",
   "metadata": {},
   "source": [
    "plt.plot(range(0,iterations), accuracy)\n",
    "plt.xlabel('iterations')\n",
    "plt.ylabel('Accuracy')\n",
    "plt.title('Accuracy Performance with Semi Supervised Learning')"
   ]
  },
  {
   "cell_type": "markdown",
   "metadata": {
    "scrolled": true
   },
   "source": [
    "missing_labels_imputed = abs(remain_unlabeled_obs - remain_unlabeled_obs[0])"
   ]
  },
  {
   "cell_type": "markdown",
   "metadata": {},
   "source": [
    "plt.plot(missing_labels_imputed, accuracy)\n",
    "plt.xlabel('# Missing Labels Imputed')\n",
    "plt.ylabel('Accuracy')\n",
    "plt.title('Accuracy Performance with Semi Supervised Learning')"
   ]
  },
  {
   "cell_type": "markdown",
   "metadata": {},
   "source": [
    "missing_labels_imputed"
   ]
  },
  {
   "cell_type": "markdown",
   "metadata": {},
   "source": [
    "pd.DataFrame(pre_pseudo_labels).value_counts()"
   ]
  },
  {
   "cell_type": "markdown",
   "metadata": {},
   "source": [
    "pd.DataFrame(y).value_counts()"
   ]
  },
  {
   "cell_type": "markdown",
   "metadata": {},
   "source": [
    "#save values\n",
    "accuracy_lp = accuracy.copy()\n",
    "iterations_lp = iterations\n",
    "missing_labels_imputed_lp = missing_labels_imputed.copy()\n",
    "y_lp = y.copy()\n",
    "accuracy_orig_data_lp = accuracy_orig_data.copy()"
   ]
  },
  {
   "cell_type": "code",
   "execution_count": null,
   "metadata": {},
   "outputs": [],
   "source": []
  },
  {
   "cell_type": "code",
   "execution_count": null,
   "metadata": {},
   "outputs": [],
   "source": []
  },
  {
   "cell_type": "markdown",
   "metadata": {},
   "source": [
    "### Self Training Classifier True Version"
   ]
  },
  {
   "cell_type": "code",
   "execution_count": 241,
   "metadata": {},
   "outputs": [],
   "source": [
    "from sklearn.semi_supervised import SelfTrainingClassifier\n",
    "from sklearn.neural_network import MLPClassifier\n",
    "#NN =  MLPClassifier(random_state=1, warm_start=True)\n",
    "NN = clf = SGDClassifier(warm_start=True, loss='modified_huber', tol=1e-3, max_iter=1000, class_weight='balanced') #warm_start is import for our setup\n",
    "clf = SelfTrainingClassifier(NN)\n",
    "y = pre_pseudo_labels.copy()\n",
    "clf.fit(df, y)\n",
    "y_stc = clf.predict(df)\n",
    "accuracy_stc = (accuracy_score(y[pre_ssl_labeled], y_stc[pre_ssl_labeled]))\n",
    "iteration_labeled = clf.labeled_iter_\n"
   ]
  },
  {
   "cell_type": "code",
   "execution_count": 242,
   "metadata": {},
   "outputs": [
    {
     "name": "stdout",
     "output_type": "stream",
     "text": [
      "0.9951826914950559\n"
     ]
    }
   ],
   "source": [
    "print(accuracy_stc)"
   ]
  },
  {
   "cell_type": "code",
   "execution_count": 243,
   "metadata": {},
   "outputs": [],
   "source": [
    "probs_stc = clf.predict_proba(df)"
   ]
  },
  {
   "cell_type": "markdown",
   "metadata": {},
   "source": [
    "# Analysis"
   ]
  },
  {
   "cell_type": "code",
   "execution_count": 244,
   "metadata": {},
   "outputs": [
    {
     "data": {
      "image/png": "[encoded data removed]",
      "text/plain": [
       "<Figure size 432x288 with 1 Axes>"
      ]
     },
     "metadata": {
      "needs_background": "light"
     },
     "output_type": "display_data"
    }
   ],
   "source": [
    "plt.plot(range(0,iterations_isvm), accuracy_isvm, label = 'Self Training SVM')\n",
    "plt.plot(range(0,iterations_csvm), accuracy_csvm, label = 'Clustering SVM(K=3/Optimal)')\n",
    "plt.plot(range(0,iterations_csvm2), accuracy_csvm2, label = 'Clustering SVM(K=10)')\n",
    "#plt.plot(range(0,iterations_lp), accuracy_lp, label = 'KNN Label Propagation')\n",
    "plt.xlabel('iterations')\n",
    "plt.ylabel('Accuracy')\n",
    "plt.title('Accuracy Performance On Updated Labels')\n",
    "plt.legend()\n",
    "plt.show()"
   ]
  },
  {
   "cell_type": "code",
   "execution_count": 245,
   "metadata": {},
   "outputs": [
    {
     "data": {
      "image/png": "[encoded data removed]",
      "text/plain": [
       "<Figure size 432x288 with 1 Axes>"
      ]
     },
     "metadata": {
      "needs_background": "light"
     },
     "output_type": "display_data"
    }
   ],
   "source": [
    "plt.plot(range(0,iterations_isvm), accuracy_orig_data_isvm, label = 'Self Training SVM')\n",
    "plt.plot(range(0,iterations_csvm), accuracy_orig_data_csvm, label = 'Clustering SVM(K=3/Optimal)')\n",
    "plt.plot(range(0,iterations_csvm2), accuracy_orig_data_csvm2, label = 'Clustering SVM(K=10)')\n",
    "#plt.plot(range(0,iterations_lp), accuracy_orig_data_lp, label = 'KNN Label Propagation')\n",
    "plt.xlabel('iterations')\n",
    "plt.ylabel('Accuracy')\n",
    "plt.title('Accuracy Performance On Original Non-Propagated Labels')\n",
    "plt.legend()\n",
    "plt.show()"
   ]
  },
  {
   "cell_type": "code",
   "execution_count": 246,
   "metadata": {},
   "outputs": [
    {
     "data": {
      "image/png": "[encoded data removed]",
      "text/plain": [
       "<Figure size 432x288 with 1 Axes>"
      ]
     },
     "metadata": {
      "needs_background": "light"
     },
     "output_type": "display_data"
    }
   ],
   "source": [
    "plt.plot(missing_labels_imputed_isvm, accuracy_isvm, label = 'Self Training SVM')\n",
    "plt.plot(missing_labels_imputed_csvm, accuracy_csvm, label = 'Clustering SVM(K=3/Optimal)')\n",
    "plt.plot(missing_labels_imputed_csvm2, accuracy_csvm2, label = 'Clustering SVM(K=10)')\n",
    "#plt.plot(missing_labels_imputed_lp, accuracy_lp, label = 'KNN Label Propagation')\n",
    "plt.xlabel('# Missing Labels Imputed')\n",
    "plt.ylabel('Accuracy')\n",
    "plt.title('Accuracy Performance On Updated Labels')\n",
    "plt.legend()\n",
    "plt.show()"
   ]
  },
  {
   "cell_type": "code",
   "execution_count": 247,
   "metadata": {},
   "outputs": [
    {
     "data": {
      "image/png": "[encoded data removed]",
      "text/plain": [
       "<Figure size 432x288 with 1 Axes>"
      ]
     },
     "metadata": {
      "needs_background": "light"
     },
     "output_type": "display_data"
    }
   ],
   "source": [
    "plt.plot(missing_labels_imputed_isvm, accuracy_orig_data_isvm, label = 'Self Training SVM')\n",
    "plt.plot(missing_labels_imputed_csvm, accuracy_orig_data_csvm, label = 'Clustering SVM(K=3/Optimal)')\n",
    "plt.plot(missing_labels_imputed_csvm2, accuracy_orig_data_csvm2, label = 'Clustering SVM(K=10)')\n",
    "#plt.plot(missing_labels_imputed_lp, accuracy_orig_data_lp, label = 'KNN Label Propagation')\n",
    "plt.xlabel('# Missing Labels Imputed')\n",
    "plt.ylabel('Accuracy')\n",
    "plt.title('Accuracy Performance On Original Non-Propagated Labels')\n",
    "plt.legend()\n",
    "plt.show()"
   ]
  },
  {
   "cell_type": "code",
   "execution_count": 248,
   "metadata": {},
   "outputs": [
    {
     "name": "stdout",
     "output_type": "stream",
     "text": [
      "[[     0.         559279.10662259 559279.10662259 136227.11312894]\n",
      " [559279.10662259      0.              0.         529468.22783066]\n",
      " [136227.11312894 529468.22783066 529468.22783066      0.        ]\n",
      " [     0.              0.              0.              0.        ]]\n"
     ]
    }
   ],
   "source": [
    "#Absolute Difference in predicted probability across the different models\n",
    "abs_diff_probabilities_models = np.zeros((4,4))\n",
    "for ii, i in enumerate([probs_isvm, probs_csvm, probs_stc]):\n",
    "    for ji, j in enumerate([probs_isvm, probs_csvm, probs_csvm2, probs_stc]):\n",
    "        abs_diff_probabilities_models[ii,ji] = abs(i - j).sum()\n",
    "\n",
    "print(abs_diff_probabilities_models)"
   ]
  },
  {
   "cell_type": "code",
   "execution_count": 249,
   "metadata": {},
   "outputs": [
    {
     "name": "stdout",
     "output_type": "stream",
     "text": [
      "[[585288.62237987]\n",
      " [549934.0199639 ]\n",
      " [549934.0199639 ]\n",
      " [564969.85849515]]\n"
     ]
    }
   ],
   "source": [
    "#Sum of Squared Difference in Probabilities across classes\n",
    "ssd_classes_and_models = np.zeros((4,1))\n",
    "for ii, i in enumerate([probs_isvm, probs_csvm, probs_csvm2, probs_stc]):\n",
    "        ssd_classes_and_models[ii] = ((i[:,0] - i[:,1])**2).sum()\n",
    "\n",
    "print(ssd_classes_and_models)"
   ]
  },
  {
   "cell_type": "code",
   "execution_count": 250,
   "metadata": {},
   "outputs": [
    {
     "name": "stdout",
     "output_type": "stream",
     "text": [
      "[[1.         0.        ]\n",
      " [0.13096069 0.86903931]\n",
      " [0.13096069 0.86903931]\n",
      " [1.         0.        ]]\n"
     ]
    }
   ],
   "source": [
    "#Mean Probability of classes\n",
    "median_probability_classes = np.zeros((4,2))\n",
    "for ii, i in enumerate([probs_isvm, probs_csvm, probs_csvm2, probs_stc]):\n",
    "        median_probability_classes[ii,0] = np.median(i[:,0])\n",
    "        median_probability_classes[ii,1] = np.median(i[:,1])\n",
    "\n",
    "print(median_probability_classes)"
   ]
  },
  {
   "cell_type": "code",
   "execution_count": 251,
   "metadata": {},
   "outputs": [
    {
     "ename": "NameError",
     "evalue": "name 'master_list' is not defined",
     "output_type": "error",
     "traceback": [
      "\u001b[1;31m---------------------------------------------------------------------------\u001b[0m",
      "\u001b[1;31mNameError\u001b[0m                                 Traceback (most recent call last)",
      "\u001b[1;32m<ipython-input-251-1ee3bc61ece2>\u001b[0m in \u001b[0;36m<module>\u001b[1;34m\u001b[0m\n\u001b[0;32m      1\u001b[0m \u001b[0mmaster_list_isvm\u001b[0m \u001b[1;33m=\u001b[0m \u001b[1;33m[\u001b[0m\u001b[1;33m]\u001b[0m\u001b[1;33m\u001b[0m\u001b[1;33m\u001b[0m\u001b[0m\n\u001b[1;32m----> 2\u001b[1;33m \u001b[0mmaster_list\u001b[0m\u001b[1;33m.\u001b[0m\u001b[0mappend\u001b[0m\u001b[1;33m(\u001b[0m\u001b[0mmissing_labels_imputed_isvm\u001b[0m\u001b[1;33m)\u001b[0m\u001b[1;33m\u001b[0m\u001b[1;33m\u001b[0m\u001b[0m\n\u001b[0m\u001b[0;32m      3\u001b[0m \u001b[0mmaster_list\u001b[0m\u001b[1;33m.\u001b[0m\u001b[0mappend\u001b[0m\u001b[1;33m(\u001b[0m\u001b[0mrange\u001b[0m\u001b[1;33m(\u001b[0m\u001b[1;36m0\u001b[0m\u001b[1;33m,\u001b[0m\u001b[0miterations_isvm\u001b[0m\u001b[1;33m)\u001b[0m\u001b[1;33m)\u001b[0m\u001b[1;33m\u001b[0m\u001b[1;33m\u001b[0m\u001b[0m\n\u001b[0;32m      4\u001b[0m \u001b[0mmaster_list\u001b[0m\u001b[1;33m.\u001b[0m\u001b[0mappend\u001b[0m\u001b[1;33m(\u001b[0m\u001b[0maccuracy_isvm\u001b[0m\u001b[1;33m)\u001b[0m\u001b[1;33m\u001b[0m\u001b[1;33m\u001b[0m\u001b[0m\n\u001b[0;32m      5\u001b[0m \u001b[0mmaster_list\u001b[0m\u001b[1;33m.\u001b[0m\u001b[0mappend\u001b[0m\u001b[1;33m(\u001b[0m\u001b[0maccuracy_orig_data_isvm\u001b[0m\u001b[1;33m)\u001b[0m\u001b[1;33m\u001b[0m\u001b[1;33m\u001b[0m\u001b[0m\n",
      "\u001b[1;31mNameError\u001b[0m: name 'master_list' is not defined"
     ]
    }
   ],
   "source": [
    "master_list_isvm = []\n",
    "master_list.append(missing_labels_imputed_isvm)\n",
    "master_list.append(range(0,iterations_isvm))\n",
    "master_list.append(accuracy_isvm)\n",
    "master_list.append(accuracy_orig_data_isvm)\n",
    "master_list.append(auc_isvm)\n",
    "master_list.append(auc_orig_isvm)\n",
    "master_list.append(missing_labels_imputed_isvm)\n",
    "master_list.append(missing_labels_imputed_isvm)\n"
   ]
  },
  {
   "cell_type": "code",
   "execution_count": null,
   "metadata": {},
   "outputs": [],
   "source": []
  },
  {
   "cell_type": "code",
   "execution_count": 252,
   "metadata": {},
   "outputs": [],
   "source": [
    "y = pre_pseudo_labels.copy()"
   ]
  },
  {
   "cell_type": "code",
   "execution_count": 278,
   "metadata": {},
   "outputs": [
    {
     "data": {
      "image/png": "[encoded data removed]",
      "text/plain": [
       "<Figure size 432x288 with 1 Axes>"
      ]
     },
     "metadata": {
      "needs_background": "light"
     },
     "output_type": "display_data"
    }
   ],
   "source": [
    "plt.scatter(df_pca[:,0], df_pca[:,1])\n",
    "idx = np.random.randint(df_pca.shape[0], size=5000)\n"
   ]
  },
  {
   "cell_type": "code",
   "execution_count": 279,
   "metadata": {},
   "outputs": [],
   "source": [
    "unlabeled = (y[idx]==-1).ravel()\n",
    "positive_fraud = (y[idx]==1).ravel()\n",
    "negative_fraud = (y[idx]==0).ravel()\n",
    "\n",
    "master_idx = [unlabeled, positive_fraud, negative_fraud]"
   ]
  },
  {
   "cell_type": "code",
   "execution_count": 280,
   "metadata": {},
   "outputs": [
    {
     "data": {
      "text/plain": [
       "array([False, False, False, ..., False, False, False])"
      ]
     },
     "execution_count": 280,
     "metadata": {},
     "output_type": "execute_result"
    }
   ],
   "source": [
    "idx1"
   ]
  },
  {
   "cell_type": "code",
   "execution_count": 281,
   "metadata": {},
   "outputs": [
    {
     "data": {
      "text/plain": [
       "array([6, 7, 7, ..., 2, 2, 2])"
      ]
     },
     "execution_count": 281,
     "metadata": {},
     "output_type": "execute_result"
    }
   ],
   "source": [
    "df_cluster_assignments"
   ]
  },
  {
   "cell_type": "code",
   "execution_count": 284,
   "metadata": {
    "scrolled": true
   },
   "outputs": [
    {
     "data": {
      "text/plain": [
       "<matplotlib.legend.Legend at 0x20083354908>"
      ]
     },
     "execution_count": 284,
     "metadata": {},
     "output_type": "execute_result"
    },
    {
     "data": {
      "image/png": "[encoded data removed]",
      "text/plain": [
       "<Figure size 432x288 with 1 Axes>"
      ]
     },
     "metadata": {
      "needs_background": "light"
     },
     "output_type": "display_data"
    }
   ],
   "source": [
    "\n",
    "plt.scatter(df_pca[idx,0][unlabeled], df_pca[idx,1][unlabeled], label='Unlabeled')\n",
    "plt.scatter(df_pca[idx,0][positive_fraud], df_pca[idx,1][positive_fraud], label='Fraud')\n",
    "plt.scatter(df_pca[idx,0][negative_fraud], df_pca[idx,1][negative_fraud], label='Non-Fraud')\n",
    "plt.xlabel('Principal Component 1')\n",
    "plt.ylabel('Principal Component 2')\n",
    "plt.title('PC Visualization of 5k Obs Labeled by True Label')\n",
    "plt.legend()"
   ]
  },
  {
   "cell_type": "markdown",
   "metadata": {},
   "source": [
    "plt.scatter(df_pca[idx,0], df_pca[idx,1], c=y[idx], label=y[idx])\n",
    "plt.xlabel('Principal Component 1')\n",
    "plt.ylabel('Principal Component 2')\n",
    "plt.title('PC Visualization of 20k Obs Labeled by True Label')\n",
    "plt.legend()"
   ]
  },
  {
   "cell_type": "code",
   "execution_count": 285,
   "metadata": {},
   "outputs": [
    {
     "data": {
      "text/plain": [
       "Text(0.5, 1.0, 'PC Visualization of 5k Obs Labeled by KMeans Clustering Results')"
      ]
     },
     "execution_count": 285,
     "metadata": {},
     "output_type": "execute_result"
    },
    {
     "data": {
      "image/png": "[encoded data removed]",
      "text/plain": [
       "<Figure size 432x288 with 1 Axes>"
      ]
     },
     "metadata": {
      "needs_background": "light"
     },
     "output_type": "display_data"
    }
   ],
   "source": [
    "plt.scatter(df_pca[idx,0], df_pca[idx,1], c=df_cluster_assignments[idx], label=df_cluster_assignments[idx])\n",
    "plt.xlabel('Principal Component 1')\n",
    "plt.ylabel('Principal Component 2')\n",
    "plt.title('PC Visualization of 5k Obs Labeled by KMeans Clustering Results')\n",
    "#.legend()"
   ]
  },
  {
   "cell_type": "code",
   "execution_count": 286,
   "metadata": {},
   "outputs": [
    {
     "data": {
      "text/plain": [
       "0    453317\n",
       "1    169254\n",
       "dtype: int64"
      ]
     },
     "execution_count": 286,
     "metadata": {},
     "output_type": "execute_result"
    }
   ],
   "source": [
    "pd.DataFrame(y_isvm).value_counts()"
   ]
  },
  {
   "cell_type": "code",
   "execution_count": 287,
   "metadata": {},
   "outputs": [
    {
     "data": {
      "text/plain": [
       "0    348283\n",
       "1    274288\n",
       "dtype: int64"
      ]
     },
     "execution_count": 287,
     "metadata": {},
     "output_type": "execute_result"
    }
   ],
   "source": [
    "pd.DataFrame(y_csvm).value_counts()"
   ]
  },
  {
   "cell_type": "code",
   "execution_count": 288,
   "metadata": {},
   "outputs": [
    {
     "data": {
      "text/plain": [
       "1    360703\n",
       "0    261868\n",
       "dtype: int64"
      ]
     },
     "execution_count": 288,
     "metadata": {},
     "output_type": "execute_result"
    }
   ],
   "source": [
    "pd.DataFrame(y_csvm2).value_counts()"
   ]
  },
  {
   "cell_type": "code",
   "execution_count": 290,
   "metadata": {},
   "outputs": [],
   "source": [
    "unlabeled = (y_isvm[idx]==-1).ravel()\n",
    "positive_fraud = (y_isvm[idx]==1).ravel()\n",
    "negative_fraud = (y_isvm[idx]==0).ravel()"
   ]
  },
  {
   "cell_type": "code",
   "execution_count": 291,
   "metadata": {},
   "outputs": [
    {
     "data": {
      "text/plain": [
       "<matplotlib.legend.Legend at 0x200806928d0>"
      ]
     },
     "execution_count": 291,
     "metadata": {},
     "output_type": "execute_result"
    },
    {
     "data": {
      "image/png": "[encoded data removed]",
      "text/plain": [
       "<Figure size 432x288 with 1 Axes>"
      ]
     },
     "metadata": {
      "needs_background": "light"
     },
     "output_type": "display_data"
    }
   ],
   "source": [
    "plt.scatter(df_pca[idx,0][unlabeled], df_pca[idx,1][unlabeled], label='Unlabeled')\n",
    "plt.scatter(df_pca[idx,0][positive_fraud], df_pca[idx,1][positive_fraud], label='Fraud')\n",
    "plt.scatter(df_pca[idx,0][negative_fraud], df_pca[idx,1][negative_fraud], label='Non-Fraud')\n",
    "plt.xlabel('Principal Component 1')\n",
    "plt.ylabel('Principal Component 2')\n",
    "plt.title('PC Visualization of 5k Obs Labeled by ISVM Predictions')\n",
    "plt.legend()"
   ]
  },
  {
   "cell_type": "code",
   "execution_count": null,
   "metadata": {},
   "outputs": [],
   "source": []
  }
 ],
 "metadata": {
  "kernelspec": {
   "display_name": "Python 3",
   "language": "python",
   "name": "python3"
  },
  "language_info": {
   "codemirror_mode": {
    "name": "ipython",
    "version": 3
   },
   "file_extension": ".py",
   "mimetype": "text/x-python",
   "name": "python",
   "nbconvert_exporter": "python",
   "pygments_lexer": "ipython3",
   "version": "3.7.3"
  }
 },
 "nbformat": 4,
 "nbformat_minor": 2
}
